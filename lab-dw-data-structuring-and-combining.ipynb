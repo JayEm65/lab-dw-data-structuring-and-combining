{
 "cells": [
  {
   "cell_type": "markdown",
   "id": "25d7736c-ba17-4aff-b6bb-66eba20fbf4e",
   "metadata": {
    "id": "25d7736c-ba17-4aff-b6bb-66eba20fbf4e"
   },
   "source": [
    "# Lab | Data Structuring and Combining Data"
   ]
  },
  {
   "cell_type": "markdown",
   "id": "a2cdfc70-44c8-478c-81e7-2bc43fdf4986",
   "metadata": {
    "id": "a2cdfc70-44c8-478c-81e7-2bc43fdf4986"
   },
   "source": [
    "## Challenge 1: Combining & Cleaning Data\n",
    "\n",
    "In this challenge, we will be working with the customer data from an insurance company, as we did in the two previous labs. The data can be found here:\n",
    "- https://raw.githubusercontent.com/data-bootcamp-v4/data/main/file1.csv\n",
    "\n",
    "But this time, we got new data, which can be found in the following 2 CSV files located at the links below.\n",
    "\n",
    "- https://raw.githubusercontent.com/data-bootcamp-v4/data/main/file2.csv\n",
    "- https://raw.githubusercontent.com/data-bootcamp-v4/data/main/file3.csv\n",
    "\n",
    "Note that you'll need to clean and format the new data.\n",
    "\n",
    "Observation:\n",
    "- One option is to first combine the three datasets and then apply the cleaning function to the new combined dataset\n",
    "- Another option would be to read the clean file you saved in the previous lab, and just clean the two new files and concatenate the three clean datasets"
   ]
  },
  {
   "cell_type": "code",
   "execution_count": 10,
   "id": "492d06e3-92c7-4105-ac72-536db98d3244",
   "metadata": {
    "id": "492d06e3-92c7-4105-ac72-536db98d3244"
   },
   "outputs": [
    {
     "name": "stdout",
     "output_type": "stream",
     "text": [
      "  customer          st gender             education customer_lifetime_value  \\\n",
      "0  RB50392  Washington    NaN                Master                     NaN   \n",
      "1  QZ44356     Arizona      F              Bachelor              697953.59%   \n",
      "2  AI49188      Nevada      F              Bachelor             1288743.17%   \n",
      "3  WW63253  California      M              Bachelor              764586.18%   \n",
      "4  GA49547  Washington      M  High School or Below              536307.65%   \n",
      "\n",
      "    income  monthly_premium_auto number_of_open_complaints     policy_type  \\\n",
      "0      0.0                1000.0                    1/0/00   Personal Auto   \n",
      "1      0.0                  94.0                    1/0/00   Personal Auto   \n",
      "2  48767.0                 108.0                    1/0/00   Personal Auto   \n",
      "3      0.0                 106.0                    1/0/00  Corporate Auto   \n",
      "4  36357.0                  68.0                    1/0/00   Personal Auto   \n",
      "\n",
      "   vehicle_class  total_claim_amount state  \n",
      "0  Four-Door Car            2.704934   NaN  \n",
      "1  Four-Door Car         1131.464935   NaN  \n",
      "2   Two-Door Car          566.472247   NaN  \n",
      "3            SUV          529.881344   NaN  \n",
      "4  Four-Door Car           17.269323   NaN  \n"
     ]
    }
   ],
   "source": [
    "import pandas as pd\n",
    "\n",
    "# Define cleaning function:\n",
    "def clean_data(df):\n",
    "    df.drop_duplicates(inplace=True)\n",
    "    df.ffill(inplace=True)  # Use ffill directly on DataFrame.\n",
    "    df.columns = df.columns.str.strip().str.lower().str.replace(' ', '_')\n",
    "    return df\n",
    "\n",
    "# Load and clean dataset:\n",
    "file1 = pd.read_csv('https://raw.githubusercontent.com/data-bootcamp-v4/data/main/file1.csv')\n",
    "file2 = pd.read_csv('https://raw.githubusercontent.com/data-bootcamp-v4/data/main/file2.csv')\n",
    "file3 = pd.read_csv('https://raw.githubusercontent.com/data-bootcamp-v4/data/main/file3.csv')\n",
    "\n",
    "file1_cleaned = clean_data(file1)\n",
    "file2_cleaned = clean_data(file2)\n",
    "file3_cleaned = clean_data(file3)\n",
    "\n",
    "# Combine dataframes:\n",
    "combined_df = pd.concat([file1_cleaned, file2_cleaned, file3_cleaned], ignore_index=True)\n",
    "\n",
    "# Preview combined dataframe:\n",
    "print(combined_df.head())\n",
    "\n",
    "# Saving the combined DataFrame as CSV file:\n",
    "combined_df.to_csv('combined_data.csv', index=False) # Optional."
   ]
  },
  {
   "cell_type": "markdown",
   "id": "31b8a9e7-7db9-4604-991b-ef6771603e57",
   "metadata": {
    "id": "31b8a9e7-7db9-4604-991b-ef6771603e57"
   },
   "source": [
    "# Challenge 2: Structuring Data"
   ]
  },
  {
   "cell_type": "markdown",
   "id": "a877fd6d-7a0c-46d2-9657-f25036e4ca4b",
   "metadata": {
    "id": "a877fd6d-7a0c-46d2-9657-f25036e4ca4b"
   },
   "source": [
    "In this challenge, we will continue to work with customer data from an insurance company, but we will use a dataset with more columns, called marketing_customer_analysis.csv, which can be found at the following link:\n",
    "\n",
    "https://raw.githubusercontent.com/data-bootcamp-v4/data/main/marketing_customer_analysis_clean.csv\n",
    "\n",
    "This dataset contains information such as customer demographics, policy details, vehicle information, and the customer's response to the last marketing campaign. Our goal is to explore and analyze this data by performing data cleaning, formatting, and structuring."
   ]
  },
  {
   "cell_type": "code",
   "execution_count": 11,
   "id": "aa10d9b0-1c27-4d3f-a8e4-db6ab73bfd26",
   "metadata": {
    "id": "aa10d9b0-1c27-4d3f-a8e4-db6ab73bfd26"
   },
   "outputs": [
    {
     "name": "stdout",
     "output_type": "stream",
     "text": [
      "Index(['customer', 'state', 'customer_lifetime_value', 'response', 'coverage',\n",
      "       'education', 'effective_to_date', 'employmentstatus', 'gender',\n",
      "       'income', 'location_code', 'marital_status', 'monthly_premium_auto',\n",
      "       'months_since_last_claim', 'months_since_policy_inception',\n",
      "       'number_of_open_complaints', 'number_of_policies', 'policy_type',\n",
      "       'policy', 'renew_offer_type', 'sales_channel', 'total_claim_amount',\n",
      "       'vehicle_class', 'vehicle_size', 'vehicle_type', 'month'],\n",
      "      dtype='object')\n",
      "               total_revenue_rounded\n",
      "sales_channel                       \n",
      "Agent                     1810226.82\n",
      "Branch                    1301204.00\n",
      "Call Center                926600.82\n",
      "Web                        706600.04\n",
      "education  Bachelor  College   Doctor  High School or Below   Master\n",
      "gender                                                              \n",
      "F           7874.27  7748.82  7328.51               8675.22  8157.05\n",
      "M           7703.60  8052.46  7415.33               8149.69  8168.83\n"
     ]
    }
   ],
   "source": [
    "# Define cleaning function:\n",
    "def clean_data(df):\n",
    "    df.drop_duplicates(inplace=True)\n",
    "    df.ffill(inplace=True)  # Use ffill directly on DataFrame.\n",
    "    df.columns = df.columns.str.strip().str.lower().str.replace(' ', '_')\n",
    "    if 'unnamed:_0' in df.columns:\n",
    "        df.drop(columns=['unnamed:_0'], inplace=True)  # Drop unnamed column if it exists.\n",
    "    return df\n",
    "\n",
    "# Load and clean dataset:\n",
    "url = 'https://raw.githubusercontent.com/data-bootcamp-v4/data/main/marketing_customer_analysis_clean.csv'\n",
    "data = pd.read_csv(url)\n",
    "data_cleaned = clean_data(data)\n",
    "\n",
    "# Inspect cleaned dataset:\n",
    "print(data_cleaned.columns)\n",
    "\n",
    "# Create pivot table to summarize total revenue by sales channel:\n",
    "pivot_total_revenue = data_cleaned.pivot_table(\n",
    "    index='sales_channel', \n",
    "    values='total_claim_amount',  # Revenue-related column.\n",
    "    aggfunc='sum'\n",
    ")\n",
    "\n",
    "# Round total revenue to 2 decimal points:\n",
    "pivot_total_revenue = pivot_total_revenue.round(2)\n",
    "\n",
    "# Rename columns for better readability:\n",
    "pivot_total_revenue.rename(columns={'total_claim_amount': 'total_revenue_rounded'}, inplace=True)\n",
    "\n",
    "# Print pivot table:\n",
    "print(pivot_total_revenue)\n",
    "\n",
    "# Create pivot table for average customer lifetime value by gender and education level:\n",
    "pivot_avg_clv = data_cleaned.pivot_table(\n",
    "    index='gender',\n",
    "    columns='education',\n",
    "    values='customer_lifetime_value',  # Lifetime value column.\n",
    "    aggfunc='mean'\n",
    ")\n",
    "\n",
    "# Round values to 2 decimal points:\n",
    "pivot_avg_clv = pivot_avg_clv.round(2)\n",
    "\n",
    "# Print pivot table:\n",
    "print(pivot_avg_clv)"
   ]
  },
  {
   "cell_type": "markdown",
   "id": "df35fd0d-513e-4e77-867e-429da10a9cc7",
   "metadata": {
    "id": "df35fd0d-513e-4e77-867e-429da10a9cc7"
   },
   "source": [
    "1. You work at the marketing department and you want to know which sales channel brought the most sales in terms of total revenue. Using pivot, create a summary table showing the total revenue for each sales channel (branch, call center, web, and mail).\n",
    "Round the total revenue to 2 decimal points.  Analyze the resulting table to draw insights."
   ]
  },
  {
   "cell_type": "markdown",
   "id": "640993b2-a291-436c-a34d-a551144f8196",
   "metadata": {
    "id": "640993b2-a291-436c-a34d-a551144f8196"
   },
   "source": [
    "2. Create a pivot table that shows the average customer lifetime value per gender and education level. Analyze the resulting table to draw insights."
   ]
  },
  {
   "cell_type": "markdown",
   "id": "32c7f2e5-3d90-43e5-be33-9781b6069198",
   "metadata": {
    "id": "32c7f2e5-3d90-43e5-be33-9781b6069198"
   },
   "source": [
    "## Bonus\n",
    "\n",
    "You work at the customer service department and you want to know which months had the highest number of complaints by policy type category. Create a summary table showing the number of complaints by policy type and month.\n",
    "Show it in a long format table."
   ]
  },
  {
   "cell_type": "markdown",
   "id": "e3d09a8f-953c-448a-a5f8-2e5a8cca7291",
   "metadata": {
    "id": "e3d09a8f-953c-448a-a5f8-2e5a8cca7291"
   },
   "source": [
    "*In data analysis, a long format table is a way of structuring data in which each observation or measurement is stored in a separate row of the table. The key characteristic of a long format table is that each column represents a single variable, and each row represents a single observation of that variable.*\n",
    "\n",
    "*More information about long and wide format tables here: https://www.statology.org/long-vs-wide-data/*"
   ]
  },
  {
   "cell_type": "code",
   "execution_count": 12,
   "id": "3a069e0b-b400-470e-904d-d17582191be4",
   "metadata": {
    "id": "3a069e0b-b400-470e-904d-d17582191be4"
   },
   "outputs": [
    {
     "name": "stdout",
     "output_type": "stream",
     "text": [
      "Long Format Table:\n",
      "      policy_type month  number_of_complaints\n",
      "0  Corporate Auto     1            443.434952\n",
      "1   Personal Auto     1           1727.605722\n",
      "2    Special Auto     1             87.074049\n",
      "3  Corporate Auto     2            385.208135\n",
      "4   Personal Auto     2           1453.684441\n",
      "5    Special Auto     2             95.226817\n"
     ]
    }
   ],
   "source": [
    "# Define cleaning function:\n",
    "def clean_data(df):\n",
    "    df.drop_duplicates(inplace=True)\n",
    "    df.ffill(inplace=True)  # Use ffill directly on DataFrame:\n",
    "    df.columns = df.columns.str.strip().str.lower().str.replace(' ', '_')\n",
    "    \n",
    "    # Convert 'number_of_open_complaints' to numeric, setting errors='coerce' to handle non-numeric values:\n",
    "    df['number_of_open_complaints'] = pd.to_numeric(df['number_of_open_complaints'], errors='coerce')\n",
    "    \n",
    "    # Drop 'unnamed:_0' column if it exists:\n",
    "    if 'unnamed:_0' in df.columns:\n",
    "        df.drop(columns=['unnamed:_0'], inplace=True)\n",
    "    \n",
    "    return df\n",
    "\n",
    "# Load and clean dataset:\n",
    "url = 'https://raw.githubusercontent.com/data-bootcamp-v4/data/main/marketing_customer_analysis_clean.csv'\n",
    "data = pd.read_csv(url)\n",
    "data_cleaned = clean_data(data)\n",
    "\n",
    "# Ensure 'month' column exists:\n",
    "data_cleaned['month'] = pd.to_datetime(data_cleaned['effective_to_date']).dt.month\n",
    "\n",
    "# Create pivot table to count number of open complaints by policy type and month:\n",
    "summary_table = data_cleaned.pivot_table(\n",
    "    index='policy_type',\n",
    "    columns='month',\n",
    "    values='number_of_open_complaints',\n",
    "    aggfunc='sum',\n",
    "    fill_value=0\n",
    ")\n",
    "\n",
    "# Convert summary table to long format for better structure:\n",
    "long_format_table = pd.melt(\n",
    "    summary_table.reset_index(),\n",
    "    id_vars=['policy_type'],\n",
    "    var_name='month',\n",
    "    value_name='number_of_complaints'\n",
    ")\n",
    "\n",
    "# Print long format summary table:\n",
    "print(\"Long Format Table:\")\n",
    "print(long_format_table)"
   ]
  }
 ],
 "metadata": {
  "colab": {
   "provenance": []
  },
  "kernelspec": {
   "display_name": "Python 3 (ipykernel)",
   "language": "python",
   "name": "python3"
  },
  "language_info": {
   "codemirror_mode": {
    "name": "ipython",
    "version": 3
   },
   "file_extension": ".py",
   "mimetype": "text/x-python",
   "name": "python",
   "nbconvert_exporter": "python",
   "pygments_lexer": "ipython3",
   "version": "3.12.6"
  }
 },
 "nbformat": 4,
 "nbformat_minor": 5
}
